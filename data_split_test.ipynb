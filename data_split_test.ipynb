{
 "cells": [
  {
   "cell_type": "code",
   "execution_count": 38,
   "metadata": {},
   "outputs": [],
   "source": [
    "import os\n",
    "def read_md_files(folder_path, filename):\n",
    "    quiz_data = []\n",
    "    filepath = os.path.join(folder_path, filename)\n",
    "    with open(filepath, 'r', encoding='utf-8') as file:\n",
    "        content = file.read()\n",
    "        parts = content.split('---')\n",
    "        for part in parts:\n",
    "            if '###' in part:\n",
    "                num = part.split('##')[1].strip()\n",
    "                if num.find('#'):\n",
    "                    num = num.replace('#', '')\n",
    "                question = part.split('###')[1].strip().split('\\n\\n')[0]\n",
    "                answer = \"\".join(part.split(question)[1:])\n",
    "                quiz_data.append({\"num\" : num, \"question\": f\"{num}_{question}\", \"answer\": answer})\n",
    "    return quiz_data"
   ]
  },
  {
   "cell_type": "code",
   "execution_count": 39,
   "metadata": {},
   "outputs": [],
   "source": [
    "folder_path = 'answers'\n",
    "# MD 파일 목록 가져오기\n",
    "md_files = [f for f in os.listdir(folder_path) if f.endswith('.md')]\n",
    "md_files = sorted(md_files)\n",
    "selected_file = md_files[0]"
   ]
  },
  {
   "cell_type": "code",
   "execution_count": 40,
   "metadata": {},
   "outputs": [],
   "source": [
    "quiz_data = read_md_files(folder_path, selected_file)"
   ]
  },
  {
   "cell_type": "code",
   "execution_count": 44,
   "metadata": {},
   "outputs": [],
   "source": [
    "questions = [f\"{q['num'].replace('#', '')} {q['question']}\" for q in quiz_data]"
   ]
  },
  {
   "cell_type": "code",
   "execution_count": 45,
   "metadata": {},
   "outputs": [
    {
     "data": {
      "text/plain": [
       "['1 고유값(eigen value)와 고유벡터(eigen vector)이 무엇이고 왜 중요한지 설명해주세요.',\n",
       " '2 샘플링(Sampling)과 리샘플링(Resampling)이 무엇이고 리샘플링의 장점을 말씀해주세요.',\n",
       " '3 확률 모형과 확률 변수는 무엇인가요?',\n",
       " '4 누적 분포 함수와 확률 밀도 함수는 무엇인가요? 수식과 함께 표현해주세요.',\n",
       " '5 조건부 확률은 무엇인가요?',\n",
       " '6 공분산과 상관계수는 무엇일까요? 수식과 함께 표현해주세요.',\n",
       " '7 신뢰 구간의 정의는 무엇인가요?',\n",
       " '8 p-value를 모르는 사람에게 설명한다면 어떻게 설명하실 건가요?',\n",
       " '9 R square의 의미는 무엇인가요?',\n",
       " '10 평균(mean)과 중앙값(median)중에 어떤 케이스에서 뭐를 써야할까요?',\n",
       " '11 중심극한정리는 왜 유용한걸까요?',\n",
       " '12 엔트로피(Entropy)에 대해 설명해주세요. 가능하면 정보이득(Information Gain)도요.',\n",
       " '13 어떨 때 모수적 방법론을 쓸 수 있고, 어떨 때 비모수적 방법론을 쓸 수 있나요?',\n",
       " '14 “likelihood”와 “probability”의 차이는 무엇일까요?',\n",
       " '15 통계에서 사용되는 bootstrap의 의미는 무엇인가요.',\n",
       " '16 모수가 매우 적은 (수십개 이하) 케이스의 경우 어떤 방식으로 예측 모델을 수립할 수 있을까요?',\n",
       " '17 베이지안과 프리퀀티스트 간의 입장차이를 설명해주실 수 있나요?',\n",
       " '18 검정력(statistical power)은 무엇일까요?',\n",
       " ' # References',\n",
       " '19 missing value가 있을 경우 채워야 할까요? 그 이유는 무엇인가요?',\n",
       " '20 아웃라이어의 판단하는 기준은 무엇인가요?',\n",
       " '21 필요한 표본의 크기를 어떻게 계산합니까?',\n",
       " '22 Bias를 통제하는 방법은 무엇입니까?',\n",
       " '23 로그 함수는 어떤 경우 유용합니까? 사례를 들어 설명해주세요.',\n",
       " '24 베르누이 분포, 이항 분포, 카테고리 분포, 다항 분포, 가우시안 정규 분포, t 분포, 카이제곱 분포, F 분포, 베타 분포, 감마 분포에 대해 설명해주세요.',\n",
       " '25 출장을 위해 비행기를 타려고 합니다. 당신은 우산을 가져가야 하는지 알고 싶어 출장지에 사는 친구 3명에게 무작위로 전화를 하고 비가 오는 경우를 독립적으로 질문했습니다. 각 친구는 2/3로 진실을 말하고 1/3으로 거짓을 말합니다. 3명의 친구가 모두 “그렇습니다. 비가 내리고 있습니다”라고 말했습니다. 실제로 비가 내릴 확률은 얼마입니까?']"
      ]
     },
     "execution_count": 45,
     "metadata": {},
     "output_type": "execute_result"
    }
   ],
   "source": [
    "questions"
   ]
  },
  {
   "cell_type": "code",
   "execution_count": null,
   "metadata": {},
   "outputs": [],
   "source": []
  },
  {
   "cell_type": "code",
   "execution_count": null,
   "metadata": {},
   "outputs": [],
   "source": []
  }
 ],
 "metadata": {
  "kernelspec": {
   "display_name": "base",
   "language": "python",
   "name": "python3"
  },
  "language_info": {
   "codemirror_mode": {
    "name": "ipython",
    "version": 3
   },
   "file_extension": ".py",
   "mimetype": "text/x-python",
   "name": "python",
   "nbconvert_exporter": "python",
   "pygments_lexer": "ipython3",
   "version": "3.10.6"
  },
  "orig_nbformat": 4,
  "vscode": {
   "interpreter": {
    "hash": "2568b31422f911d240befaa5e46dd782c4cc23ae238e6e2196b9786beeefb2a9"
   }
  }
 },
 "nbformat": 4,
 "nbformat_minor": 2
}
